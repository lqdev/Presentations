{
 "cells": [
  {
   "cell_type": "markdown",
   "metadata": {},
   "source": [
    "# .NET for Apache Spark  Demo\n",
    "\n",
    "This demo shows some of the features of .NET for Apache Spark by analyzing the [ArXiv dataset](https://www.kaggle.com/Cornell-University/arxiv) from Kaggle"
   ]
  },
  {
   "cell_type": "markdown",
   "metadata": {},
   "source": [
    "## Install Microsoft.Spark NuGet package"
   ]
  },
  {
   "cell_type": "code",
   "execution_count": 1,
   "metadata": {},
   "outputs": [],
   "source": [
    "#r \"nuget:Microsoft.Spark,0.12.1\""
   ]
  },
  {
   "cell_type": "markdown",
   "metadata": {},
   "source": [
    "## Import Microsoft.Spark packages"
   ]
  },
  {
   "cell_type": "code",
   "execution_count": 2,
   "metadata": {},
   "outputs": [
    {
     "data": {
      "text/html": [
       "Installed package Microsoft.Spark version 0.12.1"
      ]
     },
     "metadata": {},
     "output_type": "display_data"
    },
    {
     "ename": "Unhandled exception",
     "evalue": "System.ArgumentNullException: Value cannot be null. (Parameter 'directory')\r\n   at Microsoft.DotNet.Interactive.CompositeKernelExtensionLoader.LoadFromDirectoryAsync(DirectoryInfo directory, CompositeKernel kernel, KernelInvocationContext context)\r\n   at Microsoft.DotNet.Interactive.CompositeKernel.LoadExtensionsFromDirectory(DirectoryInfo directory, KernelInvocationContext context)\r\n   at Microsoft.DotNet.Interactive.Commands.LoadExtensionsInDirectory.InvokeAsync(KernelInvocationContext context)\r\n   at Microsoft.DotNet.Interactive.CompositeKernel.HandleAsync(IKernelCommand command, KernelInvocationContext context)\r\n   at Microsoft.DotNet.Interactive.KernelCommandPipeline.<BuildPipeline>b__6_0(IKernelCommand command, KernelInvocationContext context, KernelPipelineContinuation _)\r\n   at Microsoft.DotNet.Interactive.KernelBase.<AddSetKernelMiddleware>b__9_0(IKernelCommand command, KernelInvocationContext context, KernelPipelineContinuation next)\r\n   at Microsoft.DotNet.Interactive.KernelCommandPipeline.SendAsync(IKernelCommand command, KernelInvocationContext context)",
     "output_type": "error",
     "traceback": [
      "System.ArgumentNullException: Value cannot be null. (Parameter 'directory')\r\n   at Microsoft.DotNet.Interactive.CompositeKernelExtensionLoader.LoadFromDirectoryAsync(DirectoryInfo directory, CompositeKernel kernel, KernelInvocationContext context)\r\n   at Microsoft.DotNet.Interactive.CompositeKernel.LoadExtensionsFromDirectory(DirectoryInfo directory, KernelInvocationContext context)\r\n   at Microsoft.DotNet.Interactive.Commands.LoadExtensionsInDirectory.InvokeAsync(KernelInvocationContext context)\r\n   at Microsoft.DotNet.Interactive.CompositeKernel.HandleAsync(IKernelCommand command, KernelInvocationContext context)\r\n   at Microsoft.DotNet.Interactive.KernelCommandPipeline.<BuildPipeline>b__6_0(IKernelCommand command, KernelInvocationContext context, KernelPipelineContinuation _)\r\n   at Microsoft.DotNet.Interactive.KernelBase.<AddSetKernelMiddleware>b__9_0(IKernelCommand command, KernelInvocationContext context, KernelPipelineContinuation next)\r\n   at Microsoft.DotNet.Interactive.KernelCommandPipeline.SendAsync(IKernelCommand command, KernelInvocationContext context)",
      "   at Microsoft.DotNet.Interactive.CompositeKernelExtensionLoader.LoadFromDirectoryAsync(DirectoryInfo directory, CompositeKernel kernel, KernelInvocationContext context)",
      "   at Microsoft.DotNet.Interactive.CompositeKernel.LoadExtensionsFromDirectory(DirectoryInfo directory, KernelInvocationContext context)",
      "   at Microsoft.DotNet.Interactive.Commands.LoadExtensionsInDirectory.InvokeAsync(KernelInvocationContext context)",
      "   at Microsoft.DotNet.Interactive.CompositeKernel.HandleAsync(IKernelCommand command, KernelInvocationContext context)",
      "   at Microsoft.DotNet.Interactive.KernelCommandPipeline.<BuildPipeline>b__6_0(IKernelCommand command, KernelInvocationContext context, KernelPipelineContinuation _)",
      "   at Microsoft.DotNet.Interactive.KernelBase.<AddSetKernelMiddleware>b__9_0(IKernelCommand command, KernelInvocationContext context, KernelPipelineContinuation next)",
      "   at Microsoft.DotNet.Interactive.KernelCommandPipeline.SendAsync(IKernelCommand command, KernelInvocationContext context)"
     ]
    }
   ],
   "source": [
    "open Microsoft.Spark\n",
    "open Microsoft.Spark.Sql"
   ]
  },
  {
   "cell_type": "markdown",
   "metadata": {},
   "source": [
    "## Define path where the data is"
   ]
  },
  {
   "cell_type": "code",
   "execution_count": 3,
   "metadata": {},
   "outputs": [],
   "source": [
    "let DATA_DIR = \"C:\\\\Dev\\\\arxiv-metadata-oai-snapshot.json\""
   ]
  },
  {
   "cell_type": "markdown",
   "metadata": {},
   "source": [
    "## Initialize SparkSession\n",
    "\n",
    "`SparkSession` is the entrypoint of Spark applications."
   ]
  },
  {
   "cell_type": "code",
   "execution_count": 4,
   "metadata": {},
   "outputs": [
    {
     "name": "stdout",
     "output_type": "stream",
     "text": [
      "[2020-09-30T17:08:43.0742586Z] [DESKTOP-HOF6587] [Info] [ConfigurationService] 'DOTNETBACKEND_PORT' environment variable is not set.\n",
      "[2020-09-30T17:08:43.0984930Z] [DESKTOP-HOF6587] [Info] [ConfigurationService] Using port 5567 for connection.\n",
      "[2020-09-30T17:08:43.1007873Z] [DESKTOP-HOF6587] [Info] [JvmBridge] JvMBridge port is 5567\n"
     ]
    }
   ],
   "source": [
    "let sparkSession = \n",
    "    SparkSession\n",
    "        .Builder()\n",
    "        .AppName(\"arxiv-analytics\")\n",
    "        .GetOrCreate()"
   ]
  },
  {
   "cell_type": "markdown",
   "metadata": {},
   "source": [
    "## Load data into DataFrame"
   ]
  },
  {
   "cell_type": "code",
   "execution_count": 5,
   "metadata": {},
   "outputs": [],
   "source": [
    "let arxivData = \n",
    "    sparkSession\n",
    "        .Read()\n",
    "        .Option(\"inferSchema\",true)\n",
    "        .Json([|DATA_DIR|])"
   ]
  },
  {
   "cell_type": "markdown",
   "metadata": {},
   "source": [
    "## Display columns"
   ]
  },
  {
   "cell_type": "code",
   "execution_count": 6,
   "metadata": {},
   "outputs": [
    {
     "data": {
      "text/html": [
       "<table><thead><tr><th><i>index</i></th><th>value</th></tr></thead><tbody><tr><td>0</td><td>abstract</td></tr><tr><td>1</td><td>authors</td></tr><tr><td>2</td><td>authors_parsed</td></tr><tr><td>3</td><td>categories</td></tr><tr><td>4</td><td>comments</td></tr><tr><td>5</td><td>doi</td></tr><tr><td>6</td><td>id</td></tr><tr><td>7</td><td>journal-ref</td></tr><tr><td>8</td><td>license</td></tr><tr><td>9</td><td>report-no</td></tr><tr><td>10</td><td>submitter</td></tr><tr><td>11</td><td>title</td></tr><tr><td>12</td><td>update_date</td></tr><tr><td>13</td><td>versions</td></tr></tbody></table>"
      ]
     },
     "execution_count": 6,
     "metadata": {},
     "output_type": "execute_result"
    }
   ],
   "source": [
    "arxivData.Columns()"
   ]
  },
  {
   "cell_type": "code",
   "execution_count": 7,
   "metadata": {},
   "outputs": [
    {
     "name": "stdout",
     "output_type": "stream",
     "text": [
      "root\n",
      " |-- abstract: string (nullable = true)\n",
      " |-- authors: string (nullable = true)\n",
      " |-- authors_parsed: array (nullable = true)\n",
      " |    |-- element: array (containsNull = true)\n",
      " |    |    |-- element: string (containsNull = true)\n",
      " |-- categories: string (nullable = true)\n",
      " |-- comments: string (nullable = true)\n",
      " |-- doi: string (nullable = true)\n",
      " |-- id: string (nullable = true)\n",
      " |-- journal-ref: string (nullable = true)\n",
      " |-- license: string (nullable = true)\n",
      " |-- report-no: string (nullable = true)\n",
      " |-- submitter: string (nullable = true)\n",
      " |-- title: string (nullable = true)\n",
      " |-- update_date: string (nullable = true)\n",
      " |-- versions: array (nullable = true)\n",
      " |    |-- element: struct (containsNull = true)\n",
      " |    |    |-- created: string (nullable = true)\n",
      " |    |    |-- version: string (nullable = true)\n",
      "\r\n"
     ]
    },
    {
     "data": {
      "text/html": [
       "<null>"
      ]
     },
     "execution_count": 7,
     "metadata": {},
     "output_type": "execute_result"
    }
   ],
   "source": [
    "arxivData.PrintSchema()"
   ]
  },
  {
   "cell_type": "markdown",
   "metadata": {},
   "source": [
    "## See first few rows"
   ]
  },
  {
   "cell_type": "code",
   "execution_count": 8,
   "metadata": {},
   "outputs": [
    {
     "name": "stdout",
     "output_type": "stream",
     "text": [
      "+--------------------+--------------------+--------------------+--------------+--------------------+--------------------+---------+--------------------+--------------------+----------------+--------------+--------------------+-----------+--------------------+\n",
      "|            abstract|             authors|      authors_parsed|    categories|            comments|                 doi|       id|         journal-ref|             license|       report-no|     submitter|               title|update_date|            versions|\n",
      "+--------------------+--------------------+--------------------+--------------+--------------------+--------------------+---------+--------------------+--------------------+----------------+--------------+--------------------+-----------+--------------------+\n",
      "|  A fully differe...|C. Bal\\'azs, E. L...|[[Bal�zs, C., ], ...|        hep-ph|37 pages, 15 figu...|10.1103/PhysRevD....|0704.0001|Phys.Rev.D76:0130...|                null|ANL-HEP-PR-07-12|Pavel Nadolsky|Calculation of pr...| 2008-11-26|[[Mon, 2 Apr 2007...|\n",
      "|  We describe a n...|Ileana Streinu an...|[[Streinu, Ileana...| math.CO cs.CG|To appear in Grap...|                null|0704.0002|                null|http://arxiv.org/...|            null|  Louis Theran|Sparsity-certifyi...| 2008-12-13|[[Sat, 31 Mar 200...|\n",
      "|  The evolution o...|         Hongjun Pan|  [[Pan, Hongjun, ]]|physics.gen-ph| 23 pages, 3 figures|                null|0704.0003|                null|                null|            null|   Hongjun Pan|The evolution of ...| 2008-01-13|[[Sun, 1 Apr 2007...|\n",
      "+--------------------+--------------------+--------------------+--------------+--------------------+--------------------+---------+--------------------+--------------------+----------------+--------------+--------------------+-----------+--------------------+\n",
      "only showing top 3 rows\n",
      "\r\n"
     ]
    },
    {
     "data": {
      "text/html": [
       "<null>"
      ]
     },
     "execution_count": 8,
     "metadata": {},
     "output_type": "execute_result"
    }
   ],
   "source": [
    "arxivData.Show(3)"
   ]
  },
  {
   "cell_type": "markdown",
   "metadata": {},
   "source": [
    "## Get total number of articles"
   ]
  },
  {
   "cell_type": "code",
   "execution_count": 9,
   "metadata": {},
   "outputs": [],
   "source": [
    "let totalArticles = \n",
    "    arxivData\n",
    "        .Select(\n",
    "            Functions.Count(Functions.Col(\"id\")).Alias(\"total_articles\"),\n",
    "            Functions.CountDistinct(Functions.Col(\"id\")).Alias(\"distinct_articles\"))"
   ]
  },
  {
   "cell_type": "code",
   "execution_count": 10,
   "metadata": {},
   "outputs": [
    {
     "name": "stdout",
     "output_type": "stream",
     "text": [
      "+--------------+-----------------+\n",
      "|total_articles|distinct_articles|\n",
      "+--------------+-----------------+\n",
      "|       1767485|          1767482|\n",
      "+--------------+-----------------+\n",
      "\r\n"
     ]
    },
    {
     "data": {
      "text/html": [
       "<null>"
      ]
     },
     "execution_count": 10,
     "metadata": {},
     "output_type": "execute_result"
    }
   ],
   "source": [
    "totalArticles.Show()"
   ]
  },
  {
   "cell_type": "markdown",
   "metadata": {},
   "source": [
    "## Get category counts in descending order"
   ]
  },
  {
   "cell_type": "code",
   "execution_count": 11,
   "metadata": {},
   "outputs": [],
   "source": [
    "let distinctArticles = arxivData.DropDuplicates(\"id\")"
   ]
  },
  {
   "cell_type": "code",
   "execution_count": 12,
   "metadata": {},
   "outputs": [],
   "source": [
    "let columnSubset = \n",
    "    [|\n",
    "        Functions.Col(\"id\")\n",
    "        Functions.Col(\"title\")\n",
    "        Functions.Col(\"abstract\")\n",
    "        Functions.Col(\"categories\")\n",
    "    |]\n",
    "\n",
    "let articles = distinctArticles.Select(columnSubset)"
   ]
  },
  {
   "cell_type": "code",
   "execution_count": 13,
   "metadata": {},
   "outputs": [],
   "source": [
    "let categories = \n",
    "    articles\n",
    "        .Select(Functions.Col(\"categories\"))\n",
    "        .GroupBy(Functions.Col(\"categories\"))\n",
    "        .Count()\n",
    "        .OrderBy(Functions.Col(\"count\").Desc())"
   ]
  },
  {
   "cell_type": "code",
   "execution_count": 14,
   "metadata": {},
   "outputs": [
    {
     "name": "stdout",
     "output_type": "stream",
     "text": [
      "+-----------------+-----+\n",
      "|       categories|count|\n",
      "+-----------------+-----+\n",
      "|         astro-ph|86914|\n",
      "|           hep-ph|73272|\n",
      "|         quant-ph|53392|\n",
      "|           hep-th|53049|\n",
      "|cond-mat.mtrl-sci|29641|\n",
      "|cond-mat.mes-hall|29495|\n",
      "|            gr-qc|25377|\n",
      "|            cs.CV|24689|\n",
      "|          math.AP|23788|\n",
      "|      astro-ph.SR|22750|\n",
      "+-----------------+-----+\n",
      "only showing top 10 rows\n",
      "\r\n"
     ]
    },
    {
     "data": {
      "text/html": [
       "<null>"
      ]
     },
     "execution_count": 14,
     "metadata": {},
     "output_type": "execute_result"
    }
   ],
   "source": [
    "categories.Show(10)"
   ]
  },
  {
   "cell_type": "code",
   "execution_count": 19,
   "metadata": {},
   "outputs": [],
   "source": [
    "let astroph = \n",
    "    articles\n",
    "        .Filter(Functions.Col(\"categories\").EqualTo(\"astro-ph\"))"
   ]
  },
  {
   "cell_type": "code",
   "execution_count": 20,
   "metadata": {},
   "outputs": [
    {
     "name": "stdout",
     "output_type": "stream",
     "text": [
      "+---------+--------------------+--------------------+----------+\n",
      "|       id|               title|            abstract|categories|\n",
      "+---------+--------------------+--------------------+----------+\n",
      "|0704.3919|On over-reflectio...|  The dynamics of...|  astro-ph|\n",
      "|0705.0685|PSR J1453+1902 an...|  We present 3 yr...|  astro-ph|\n",
      "|0705.0780|Massive stars and...|  We first presen...|  astro-ph|\n",
      "+---------+--------------------+--------------------+----------+\n",
      "only showing top 3 rows\n",
      "\r\n"
     ]
    },
    {
     "data": {
      "text/html": [
       "<null>"
      ]
     },
     "execution_count": 20,
     "metadata": {},
     "output_type": "execute_result"
    }
   ],
   "source": [
    "astroph.Show(3)"
   ]
  },
  {
   "cell_type": "markdown",
   "metadata": {},
   "source": [
    "## Write out transformed output"
   ]
  },
  {
   "cell_type": "code",
   "execution_count": 22,
   "metadata": {},
   "outputs": [
    {
     "data": {
      "text/html": [
       "<null>"
      ]
     },
     "execution_count": 22,
     "metadata": {},
     "output_type": "execute_result"
    }
   ],
   "source": [
    "articles\n",
    "    .Coalesce(1)\n",
    "    .Write()\n",
    "    .Mode(\"overwrite\")\n",
    "    .Csv(\"output\")"
   ]
  }
 ],
 "metadata": {
  "kernelspec": {
   "display_name": ".NET (F#)",
   "language": "F#",
   "name": ".net-fsharp"
  },
  "language_info": {
   "file_extension": ".fs",
   "mimetype": "text/x-fsharp",
   "name": "C#",
   "pygments_lexer": "fsharp",
   "version": "4.5"
  }
 },
 "nbformat": 4,
 "nbformat_minor": 2
}
